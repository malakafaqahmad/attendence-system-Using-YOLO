{
 "cells": [
  {
   "cell_type": "code",
   "execution_count": null,
   "metadata": {
    "_cell_guid": "b1076dfc-b9ad-4769-8c92-a6c4dae69d19",
    "_uuid": "8f2839f25d086af736a60e9eeb907d3b93b6e0e5",
    "execution": {
     "iopub.execute_input": "2024-12-24T20:17:16.008848Z",
     "iopub.status.busy": "2024-12-24T20:17:16.008659Z",
     "iopub.status.idle": "2024-12-24T20:17:19.324498Z",
     "shell.execute_reply": "2024-12-24T20:17:19.323632Z",
     "shell.execute_reply.started": "2024-12-24T20:17:16.008830Z"
    },
    "trusted": true
   },
   "outputs": [],
   "source": [
    "!pip install ultralytics"
   ]
  },
  {
   "cell_type": "code",
   "execution_count": null,
   "metadata": {
    "execution": {
     "iopub.execute_input": "2024-12-24T20:17:19.325685Z",
     "iopub.status.busy": "2024-12-24T20:17:19.325452Z",
     "iopub.status.idle": "2024-12-24T20:17:19.363190Z",
     "shell.execute_reply": "2024-12-24T20:17:19.362332Z",
     "shell.execute_reply.started": "2024-12-24T20:17:19.325667Z"
    },
    "trusted": true
   },
   "outputs": [],
   "source": [
    "from ultralytics import YOLO\n",
    "\n",
    "\n",
    "model = YOLO(\"/kaggle/input/face-detection/tensorflow2/default/1/face_detection_model.pt\")"
   ]
  },
  {
   "cell_type": "code",
   "execution_count": null,
   "metadata": {
    "execution": {
     "iopub.execute_input": "2024-12-24T20:17:19.364356Z",
     "iopub.status.busy": "2024-12-24T20:17:19.364149Z",
     "iopub.status.idle": "2024-12-24T20:17:19.378596Z",
     "shell.execute_reply": "2024-12-24T20:17:19.377682Z",
     "shell.execute_reply.started": "2024-12-24T20:17:19.364338Z"
    },
    "trusted": true
   },
   "outputs": [],
   "source": [
    "import os\n",
    "\n",
    "# Define the root directory\n",
    "root_dir = \"/kaggle/input/class-extensive-dataset/Class.v1i.yolov8\"\n",
    "\n",
    "# Initialize an empty list to store the image paths\n",
    "image_paths = []\n",
    "\n",
    "# Loop through each category (train, valid, test) in the root directory\n",
    "for category in os.listdir(root_dir):\n",
    "    category_path = os.path.join(root_dir, category)\n",
    "    \n",
    "    # Check if the item is a directory\n",
    "    if os.path.isdir(category_path):\n",
    "        # Check if the images directory exists inside the category\n",
    "        images_dir = os.path.join(category_path, 'images')\n",
    "        if os.path.isdir(images_dir):\n",
    "            # Loop through the files in the images directory\n",
    "            for image_name in os.listdir(images_dir):\n",
    "                image_path = os.path.join(images_dir, image_name)\n",
    "                \n",
    "                # If the file is an image, add it to the list\n",
    "                if image_name.endswith(('.jpg', '.png', '.jpeg')):\n",
    "                    image_paths.append(image_path)\n",
    "\n",
    "image_paths"
   ]
  },
  {
   "cell_type": "code",
   "execution_count": null,
   "metadata": {
    "execution": {
     "iopub.execute_input": "2024-12-24T20:17:19.379607Z",
     "iopub.status.busy": "2024-12-24T20:17:19.379345Z",
     "iopub.status.idle": "2024-12-24T20:17:19.608380Z",
     "shell.execute_reply": "2024-12-24T20:17:19.607614Z",
     "shell.execute_reply.started": "2024-12-24T20:17:19.379587Z"
    },
    "trusted": true
   },
   "outputs": [],
   "source": [
    "import cv2\n",
    "import numpy as np\n",
    "from ultralytics import YOLO\n",
    "import matplotlib.pyplot as plt\n",
    "\n",
    "# Load the YOLOv8 model (replace with your model path if necessary)\n",
    "\n",
    "# URL of the image (Replace with the correct file path)\n",
    "image_url = \"/kaggle/input/class-extensive-dataset/Class.v1i.yolov8/test/images/IMG_6490-JPG_jpeg.rf.1fff63abd1fcb81bb647205ecd42d621.jpg\"\n",
    "\n",
    "# Run the model on the image\n",
    "results = model.predict(source=image_url, conf=0.6)  # Adjust confidence threshold if needed\n",
    "\n",
    "# Read the image\n",
    "image = cv2.imread(image_url)\n",
    "\n",
    "# Get the annotations (bounding boxes)\n",
    "annotations = results[0].boxes  # This contains the bounding boxes\n",
    "\n",
    "# Visualize the predictions and crop each detected object\n",
    "for i, box in enumerate(annotations):\n",
    "    # Extract the bounding box coordinates\n",
    "    x1, y1, x2, y2 = map(int, box.xyxy[0])  # Convert to integer values\n",
    "\n",
    "    # Crop the region from the image\n",
    "    cropped_face = image[y1:y2, x1:x2]\n",
    "\n",
    "    # Show the cropped region\n",
    "    plt.figure(figsize=(5, 5))\n",
    "    plt.imshow(cv2.cvtColor(cropped_face, cv2.COLOR_BGR2RGB))\n",
    "    plt.axis('off')\n",
    "    plt.show()\n",
    "\n",
    "    # Optionally, save each cropped region\n",
    "    cv2.imwrite(f'cropped_object_{i}.jpg', cropped_face)\n",
    "    print(f\"Object {i} saved as 'cropped_object_{i}.jpg'\")\n",
    "\n",
    "# Optionally save the annotated image\n",
    "annotated_image = results[0].plot()  # Annotated image with bounding boxes"
   ]
  },
  {
   "cell_type": "code",
   "execution_count": null,
   "metadata": {
    "execution": {
     "iopub.execute_input": "2024-12-24T20:17:19.609364Z",
     "iopub.status.busy": "2024-12-24T20:17:19.609139Z",
     "iopub.status.idle": "2024-12-24T20:17:23.462654Z",
     "shell.execute_reply": "2024-12-24T20:17:23.461822Z",
     "shell.execute_reply.started": "2024-12-24T20:17:19.609343Z"
    },
    "trusted": true
   },
   "outputs": [],
   "source": [
    "import os\n",
    "import cv2\n",
    "import numpy as np\n",
    "from ultralytics import YOLO\n",
    "import matplotlib.pyplot as plt\n",
    "\n",
    "# Define the root directory\n",
    "root_dir = \"/kaggle/input/class-extensive-dataset/Class.v1i.yolov8\"\n",
    "output_dir = \"/kaggle/working/predictions\"\n",
    "\n",
    "# Create the output directory if it doesn't exist\n",
    "os.makedirs(output_dir, exist_ok=True)\n",
    "\n",
    "# Initialize a list to store image paths\n",
    "image_paths = []\n",
    "\n",
    "# Loop through each category (train, valid, test) in the root directory\n",
    "for category in os.listdir(root_dir):\n",
    "    category_path = os.path.join(root_dir, category)\n",
    "    \n",
    "    # Check if the item is a directory\n",
    "    if os.path.isdir(category_path):\n",
    "        # Check if the 'images' directory exists inside the category\n",
    "        images_dir = os.path.join(category_path, 'images')\n",
    "        if os.path.isdir(images_dir):\n",
    "            # Loop through the files in the images directory\n",
    "            for image_name in os.listdir(images_dir):\n",
    "                image_path = os.path.join(images_dir, image_name)\n",
    "                \n",
    "                # If the file is an image, add it to the list\n",
    "                if image_name.endswith(('.jpg', '.png', '.jpeg')):\n",
    "                    image_paths.append(image_path)\n",
    "\n",
    "# Loop through all image paths and make predictions\n",
    "for image_path in image_paths:\n",
    "    # Run the model on the image\n",
    "    results = model.predict(source=image_path, conf=0.6)  # Adjust confidence threshold if needed\n",
    "\n",
    "    # Read the image\n",
    "    image = cv2.imread(image_path)\n",
    "\n",
    "    # Get the annotations (bounding boxes)\n",
    "    annotations = results[0].boxes  # This contains the bounding boxes\n",
    "\n",
    "    # Create a subfolder for each category to save predictions\n",
    "    category_name = image_path.split(\"/\")[-3]  # Extract category name (train, valid, test)\n",
    "    category_output_dir = os.path.join(output_dir, category_name)\n",
    "    os.makedirs(category_output_dir, exist_ok=True)\n",
    "\n",
    "    # Visualize the predictions and crop each detected object\n",
    "    for i, box in enumerate(annotations):\n",
    "        # Extract the bounding box coordinates\n",
    "        x1, y1, x2, y2 = map(int, box.xyxy[0])  # Convert to integer values\n",
    "\n",
    "        # Crop the region from the image\n",
    "        cropped_object = image[y1:y2, x1:x2]\n",
    "\n",
    "        # Save each cropped region\n",
    "        cropped_filename = f\"{category_name}_{image_path.split('/')[-1]}_cropped_{i}.jpg\"\n",
    "        cropped_output_path = os.path.join(category_output_dir, cropped_filename)\n",
    "        cv2.imwrite(cropped_output_path, cropped_object)\n",
    "        print(f\"Cropped object {i} saved as '{cropped_output_path}'\")\n",
    "\n",
    "    # Optionally save the annotated image with bounding boxes\n",
    "    # annotated_image = results[0].plot()  # Annotated image with bounding boxes\n",
    "    # annotated_image_path = os.path.join(category_output_dir, f\"annotated_{image_path.split('/')[-1]}\")\n",
    "    # cv2.imwrite(annotated_image_path, annotated_image)\n",
    "    # print(f\"Annotated image saved as '{annotated_image_path}'\")\n",
    "\n",
    "print(\"Prediction process completed and images saved.\")"
   ]
  },
  {
   "cell_type": "code",
   "execution_count": null,
   "metadata": {
    "execution": {
     "iopub.execute_input": "2024-12-24T20:17:23.463888Z",
     "iopub.status.busy": "2024-12-24T20:17:23.463597Z",
     "iopub.status.idle": "2024-12-24T20:17:23.548187Z",
     "shell.execute_reply": "2024-12-24T20:17:23.547511Z",
     "shell.execute_reply.started": "2024-12-24T20:17:23.463859Z"
    },
    "trusted": true
   },
   "outputs": [],
   "source": [
    "import shutil\n",
    "\n",
    "# Path to the output folder\n",
    "output_folder = '/kaggle/working/predictions'\n",
    "\n",
    "# Create a zip file of the output folder\n",
    "shutil.make_archive(output_folder, 'zip', output_folder)\n",
    "print(\"Folder zipped successfully.\")\n"
   ]
  },
  {
   "cell_type": "markdown",
   "metadata": {},
   "source": [
    "# Data Augmentation"
   ]
  },
  {
   "cell_type": "code",
   "execution_count": null,
   "metadata": {
    "execution": {
     "iopub.execute_input": "2024-12-24T20:19:08.834956Z",
     "iopub.status.busy": "2024-12-24T20:19:08.834638Z",
     "iopub.status.idle": "2024-12-24T20:19:08.838903Z",
     "shell.execute_reply": "2024-12-24T20:19:08.837941Z",
     "shell.execute_reply.started": "2024-12-24T20:19:08.834936Z"
    },
    "trusted": true
   },
   "outputs": [],
   "source": [
    "path = '/kaggle/input/faces-dataset/data'"
   ]
  },
  {
   "cell_type": "code",
   "execution_count": null,
   "metadata": {
    "execution": {
     "iopub.execute_input": "2024-12-24T20:49:39.407336Z",
     "iopub.status.busy": "2024-12-24T20:49:39.407009Z",
     "iopub.status.idle": "2024-12-24T20:49:39.484648Z",
     "shell.execute_reply": "2024-12-24T20:49:39.483777Z",
     "shell.execute_reply.started": "2024-12-24T20:49:39.407312Z"
    },
    "trusted": true
   },
   "outputs": [],
   "source": [
    "import os\n",
    "\n",
    "# Path to the folder containing images\n",
    "path = '/kaggle/input/faces-dataset/data'\n",
    "\n",
    "# List to store image file paths\n",
    "image_paths = []\n",
    "\n",
    "# Iterate over files in the directory and add image file paths to the list\n",
    "for root, dirs, files in os.walk(path):\n",
    "    for file in files:\n",
    "        if file.lower().endswith(('.jpg', '.jpeg', '.png', '.bmp', '.gif')):\n",
    "            image_paths.append(os.path.join(root, file))\n",
    "\n",
    "# Display the list of image paths\n",
    "image_paths[:10]  # Show first 10 image paths for brevity"
   ]
  },
  {
   "cell_type": "markdown",
   "metadata": {},
   "source": [
    "# Quality Reduction"
   ]
  },
  {
   "cell_type": "code",
   "execution_count": null,
   "metadata": {
    "collapsed": true,
    "execution": {
     "iopub.execute_input": "2024-12-24T20:38:14.034394Z",
     "iopub.status.busy": "2024-12-24T20:38:14.034063Z",
     "iopub.status.idle": "2024-12-24T20:38:14.231799Z",
     "shell.execute_reply": "2024-12-24T20:38:14.230773Z",
     "shell.execute_reply.started": "2024-12-24T20:38:14.034366Z"
    },
    "jupyter": {
     "outputs_hidden": true
    },
    "trusted": true
   },
   "outputs": [],
   "source": [
    "from PIL import Image, ImageFilter\n",
    "import numpy as np\n",
    "import matplotlib.pyplot as plt\n",
    "\n",
    "# Path to the input image\n",
    "input_image_path = \"/kaggle/input/faces-dataset/data/test_IMG_6490-JPG_jpeg.rf.1fff63abd1fcb81bb647205ecd42d621.jpg_cropped_0.jpg\"\n",
    "\n",
    "# Path to save the reduced-quality and blurred image\n",
    "output_image_path = \"mo.jpg\"\n",
    "\n",
    "# Moderate quality reduction\n",
    "reduced_quality = 30  # Balanced compression level\n",
    "\n",
    "# Moderate blur effect\n",
    "blur_radius = 3  # Noticeable but not excessive blur\n",
    "\n",
    "# Open the image and apply the transformations\n",
    "try:\n",
    "    with Image.open(input_image_path) as img:\n",
    "        # Apply Gaussian Blur\n",
    "        blurred_img = img.filter(ImageFilter.GaussianBlur(blur_radius))\n",
    "        # Save the blurred image with reduced quality\n",
    "        blurred_img.save(output_image_path, quality=reduced_quality)\n",
    "        print(f\"Moderately blurred and reduced-quality image saved as: {output_image_path}\")\n",
    "except Exception as e:\n",
    "    print(f\"Error processing the image: {e}\")\n",
    "\n",
    "    # Display the result\n",
    "plt.figure(figsize=(6, 6))\n",
    "plt.imshow(image_with_grain)\n",
    "plt.axis('off')\n",
    "plt.show()\n"
   ]
  },
  {
   "cell_type": "code",
   "execution_count": null,
   "metadata": {
    "collapsed": true,
    "execution": {
     "iopub.execute_input": "2024-12-24T20:51:10.821068Z",
     "iopub.status.busy": "2024-12-24T20:51:10.820782Z",
     "iopub.status.idle": "2024-12-24T20:51:11.928665Z",
     "shell.execute_reply": "2024-12-24T20:51:11.927889Z",
     "shell.execute_reply.started": "2024-12-24T20:51:10.821050Z"
    },
    "jupyter": {
     "outputs_hidden": true
    },
    "trusted": true
   },
   "outputs": [],
   "source": [
    "import os\n",
    "from PIL import Image, ImageFilter\n",
    "\n",
    "# Path to the folder containing images\n",
    "input_path = '/kaggle/input/faces-dataset/data'\n",
    "output_folder = '/kaggle/working/rquality'\n",
    "\n",
    "# Create the output folder if it doesn't exist\n",
    "os.makedirs(output_folder, exist_ok=True)\n",
    "\n",
    "# List to store image file paths\n",
    "image_paths = []\n",
    "\n",
    "# Iterate over files in the directory and add image file paths to the list\n",
    "for root, dirs, files in os.walk(input_path):\n",
    "    for file in files:\n",
    "        if file.lower().endswith(('.jpg', '.jpeg', '.png', '.bmp', '.gif')):\n",
    "            image_paths.append(os.path.join(root, file))\n",
    "\n",
    "# Moderate quality reduction\n",
    "reduced_quality = 30  # Balanced compression level\n",
    "\n",
    "# Moderate blur effect\n",
    "blur_radius = 3  # Noticeable but not excessive blur\n",
    "\n",
    "# Process each image\n",
    "for input_image_path in image_paths:\n",
    "    try:\n",
    "        # Open the image and apply the transformations\n",
    "        with Image.open(input_image_path) as img:\n",
    "            # Apply Gaussian Blur\n",
    "            blurred_img = img.filter(ImageFilter.GaussianBlur(blur_radius))\n",
    "            \n",
    "            # Prepare the output file path\n",
    "            base_name = os.path.basename(input_image_path)\n",
    "            output_image_path = os.path.join(output_folder, base_name)\n",
    "            \n",
    "            # Save the blurred image with reduced quality\n",
    "            blurred_img.save(output_image_path, quality=reduced_quality)\n",
    "            print(f\"Processed and saved: {output_image_path}\")\n",
    "    \n",
    "    except Exception as e:\n",
    "        print(f\"Error processing the image {input_image_path}: {e}\")\n"
   ]
  },
  {
   "cell_type": "code",
   "execution_count": null,
   "metadata": {
    "execution": {
     "iopub.execute_input": "2024-12-24T20:52:15.294897Z",
     "iopub.status.busy": "2024-12-24T20:52:15.294587Z",
     "iopub.status.idle": "2024-12-24T20:52:15.340794Z",
     "shell.execute_reply": "2024-12-24T20:52:15.340123Z",
     "shell.execute_reply.started": "2024-12-24T20:52:15.294874Z"
    },
    "trusted": true
   },
   "outputs": [],
   "source": [
    "import shutil\n",
    "\n",
    "# Path to the output folder\n",
    "output_folder = '/kaggle/working/rquality'\n",
    "\n",
    "# Create a zip file of the output folder\n",
    "shutil.make_archive(output_folder, 'zip', output_folder)\n",
    "print(\"Folder zipped successfully.\")"
   ]
  },
  {
   "cell_type": "markdown",
   "metadata": {},
   "source": [
    "# grains on the image"
   ]
  },
  {
   "cell_type": "code",
   "execution_count": null,
   "metadata": {
    "execution": {
     "iopub.execute_input": "2024-12-24T20:42:08.154272Z",
     "iopub.status.busy": "2024-12-24T20:42:08.153925Z",
     "iopub.status.idle": "2024-12-24T20:42:08.519516Z",
     "shell.execute_reply": "2024-12-24T20:42:08.518649Z",
     "shell.execute_reply.started": "2024-12-24T20:42:08.154245Z"
    },
    "trusted": true
   },
   "outputs": [],
   "source": [
    "import cv2\n",
    "import numpy as np\n",
    "import matplotlib.pyplot as plt\n",
    "\n",
    "# Load the image\n",
    "image_path = '/kaggle/input/faces-dataset/data/test_IMG_6490-JPG_jpeg.rf.1fff63abd1fcb81bb647205ecd42d621.jpg_cropped_0.jpg'\n",
    "image = cv2.imread(image_path)\n",
    "\n",
    "# Convert the image to RGB (OpenCV loads images in BGR format by default)\n",
    "image_rgb = cv2.cvtColor(image, cv2.COLOR_BGR2RGB)\n",
    "\n",
    "# Function to add grain/noise to the image\n",
    "def add_grain(image, amount=0.1):\n",
    "    row, col, ch = image.shape\n",
    "    mean = 0\n",
    "    sigma = amount * 255\n",
    "    gauss = np.random.normal(mean, sigma, (row, col, ch))\n",
    "    noisy = np.clip(image + gauss, 0, 255)\n",
    "    return noisy.astype(np.uint8)\n",
    "\n",
    "# Add grain to the image\n",
    "image_with_grain = add_grain(image_rgb)\n",
    "\n",
    "# Display the original and noisy image\n",
    "plt.figure(figsize=(10, 5))\n",
    "\n",
    "plt.subplot(1, 2, 1)\n",
    "plt.imshow(image_rgb)\n",
    "plt.title('Original Image')\n",
    "plt.axis('off')\n",
    "\n",
    "plt.subplot(1, 2, 2)\n",
    "plt.imshow(image_with_grain)\n",
    "plt.title('Image with Grain')\n",
    "plt.axis('off')\n",
    "\n",
    "plt.show()\n"
   ]
  },
  {
   "cell_type": "code",
   "execution_count": null,
   "metadata": {
    "collapsed": true,
    "execution": {
     "iopub.execute_input": "2024-12-24T20:54:30.848463Z",
     "iopub.status.busy": "2024-12-24T20:54:30.848116Z",
     "iopub.status.idle": "2024-12-24T20:54:31.695396Z",
     "shell.execute_reply": "2024-12-24T20:54:31.694674Z",
     "shell.execute_reply.started": "2024-12-24T20:54:30.848407Z"
    },
    "jupyter": {
     "outputs_hidden": true
    },
    "trusted": true
   },
   "outputs": [],
   "source": [
    "import cv2\n",
    "import numpy as np\n",
    "import os\n",
    "import matplotlib.pyplot as plt\n",
    "\n",
    "# Path to the folder containing images\n",
    "input_path = '/kaggle/input/faces-dataset/data'\n",
    "output_folder = '/kaggle/working/grained'\n",
    "\n",
    "# Create the output folder if it doesn't exist\n",
    "os.makedirs(output_folder, exist_ok=True)\n",
    "\n",
    "# List to store image file paths\n",
    "image_paths = []\n",
    "\n",
    "# Iterate over files in the directory and add image file paths to the list\n",
    "for root, dirs, files in os.walk(input_path):\n",
    "    for file in files:\n",
    "        if file.lower().endswith(('.jpg', '.jpeg', '.png', '.bmp', '.gif')):\n",
    "            image_paths.append(os.path.join(root, file))\n",
    "\n",
    "# Function to add grain/noise to the image\n",
    "def add_grain(image, amount=0.1):\n",
    "    row, col, ch = image.shape\n",
    "    mean = 0\n",
    "    sigma = amount * 255\n",
    "    gauss = np.random.normal(mean, sigma, (row, col, ch))\n",
    "    noisy = np.clip(image + gauss, 0, 255)\n",
    "    return noisy.astype(np.uint8)\n",
    "\n",
    "# Process each image\n",
    "for image_path in image_paths:\n",
    "    try:\n",
    "        # Load the image using OpenCV\n",
    "        image = cv2.imread(image_path)\n",
    "\n",
    "        # Convert the image to RGB (OpenCV loads images in BGR format by default)\n",
    "        image_rgb = cv2.cvtColor(image, cv2.COLOR_BGR2RGB)\n",
    "\n",
    "        # Add grain to the image\n",
    "        image_with_grain = add_grain(image_rgb)\n",
    "\n",
    "        # Prepare the output file path\n",
    "        base_name = os.path.basename(image_path)\n",
    "        output_image_path = os.path.join(output_folder, base_name)\n",
    "\n",
    "        # Save the image with grain effect\n",
    "        cv2.imwrite(output_image_path, cv2.cvtColor(image_with_grain, cv2.COLOR_RGB2BGR))\n",
    "        print(f\"Processed and saved: {output_image_path}\")\n",
    "    \n",
    "    except Exception as e:\n",
    "        print(f\"Error processing the image {image_path}: {e}\")"
   ]
  },
  {
   "cell_type": "code",
   "execution_count": null,
   "metadata": {
    "execution": {
     "iopub.execute_input": "2024-12-24T20:57:00.594637Z",
     "iopub.status.busy": "2024-12-24T20:57:00.594276Z",
     "iopub.status.idle": "2024-12-24T20:57:00.740763Z",
     "shell.execute_reply": "2024-12-24T20:57:00.739975Z",
     "shell.execute_reply.started": "2024-12-24T20:57:00.594609Z"
    },
    "trusted": true
   },
   "outputs": [],
   "source": [
    "import shutil\n",
    "\n",
    "# Path to the output folder\n",
    "output_folder = '/kaggle/working/grained'\n",
    "\n",
    "# Create a zip file of the output folder\n",
    "shutil.make_archive(output_folder, 'zip', output_folder)\n",
    "print(\"Folder zipped successfully.\")"
   ]
  },
  {
   "cell_type": "markdown",
   "metadata": {},
   "source": [
    "# blurring and graining"
   ]
  },
  {
   "cell_type": "code",
   "execution_count": null,
   "metadata": {
    "execution": {
     "iopub.execute_input": "2024-12-24T20:46:09.368031Z",
     "iopub.status.busy": "2024-12-24T20:46:09.367743Z",
     "iopub.status.idle": "2024-12-24T20:46:09.835195Z",
     "shell.execute_reply": "2024-12-24T20:46:09.834305Z",
     "shell.execute_reply.started": "2024-12-24T20:46:09.368010Z"
    },
    "trusted": true
   },
   "outputs": [],
   "source": [
    "from PIL import Image, ImageFilter\n",
    "import numpy as np\n",
    "import cv2\n",
    "import matplotlib.pyplot as plt\n",
    "\n",
    "# Path to the input image\n",
    "input_image_path = \"/kaggle/input/faces-dataset/data/test_IMG_6490-JPG_jpeg.rf.1fff63abd1fcb81bb647205ecd42d621.jpg_cropped_0.jpg\"\n",
    "\n",
    "# Path to save the reduced-quality and blurred image\n",
    "output_image_path = \"mo.jpg\"\n",
    "\n",
    "# Moderate quality reduction\n",
    "reduced_quality = 30  # Balanced compression level\n",
    "\n",
    "# Moderate blur effect\n",
    "blur_radius = 3  # Noticeable but not excessive blur\n",
    "\n",
    "# Function to add grain/noise to the image\n",
    "def add_grain(image, amount=0.1):\n",
    "    row, col, ch = image.shape\n",
    "    mean = 0\n",
    "    sigma = amount * 255\n",
    "    gauss = np.random.normal(mean, sigma, (row, col, ch))\n",
    "    noisy = np.clip(image + gauss, 0, 255)\n",
    "    return noisy.astype(np.uint8)\n",
    "\n",
    "# Open the image and apply the transformations\n",
    "try:\n",
    "    # Open and apply Gaussian Blur using PIL\n",
    "    with Image.open(input_image_path) as img:\n",
    "        blurred_img = img.filter(ImageFilter.GaussianBlur(blur_radius))\n",
    "        # Save the blurred image with reduced quality using PIL\n",
    "        blurred_img.save(output_image_path, quality=reduced_quality)\n",
    "        print(f\"Moderately blurred and reduced-quality image saved as: {output_image_path}\")\n",
    "\n",
    "    # Now load the blurred image using OpenCV for noise addition\n",
    "    blurred_img_opencv = cv2.imread(output_image_path)  # Use the saved reduced-quality image\n",
    "    blurred_img_rgb = cv2.cvtColor(blurred_img_opencv, cv2.COLOR_BGR2RGB)  # Convert to RGB for displaying\n",
    "\n",
    "    # Add grain to the image using the previously defined function\n",
    "    image_with_grain = add_grain(blurred_img_rgb)\n",
    "\n",
    "    # Display the original, blurred, and grainy images\n",
    "    plt.figure(figsize=(15, 5))\n",
    "\n",
    "    # Original image\n",
    "    original_img = cv2.imread(input_image_path)\n",
    "    original_img_rgb = cv2.cvtColor(original_img, cv2.COLOR_BGR2RGB)\n",
    "    plt.subplot(1, 3, 1)\n",
    "    plt.imshow(original_img_rgb)\n",
    "    plt.title('Original Image')\n",
    "    plt.axis('off')\n",
    "\n",
    "    # Blurred image\n",
    "    plt.subplot(1, 3, 2)\n",
    "    plt.imshow(blurred_img_rgb)\n",
    "    plt.title('Blurred Image (PIL)')\n",
    "    plt.axis('off')\n",
    "\n",
    "    # Image with grain\n",
    "    plt.subplot(1, 3, 3)\n",
    "    plt.imshow(image_with_grain)\n",
    "    plt.title('Image with Grain (Noise)')\n",
    "    plt.axis('off')\n",
    "\n",
    "    plt.show()\n",
    "\n",
    "except Exception as e:\n",
    "    print(f\"Error processing the image: {e}\")\n"
   ]
  },
  {
   "cell_type": "code",
   "execution_count": null,
   "metadata": {
    "collapsed": true,
    "execution": {
     "iopub.execute_input": "2024-12-24T21:05:39.754139Z",
     "iopub.status.busy": "2024-12-24T21:05:39.753819Z",
     "iopub.status.idle": "2024-12-24T21:05:41.256586Z",
     "shell.execute_reply": "2024-12-24T21:05:41.255678Z",
     "shell.execute_reply.started": "2024-12-24T21:05:39.754117Z"
    },
    "jupyter": {
     "outputs_hidden": true
    },
    "trusted": true
   },
   "outputs": [],
   "source": [
    "import cv2\n",
    "import numpy as np\n",
    "import os\n",
    "import matplotlib.pyplot as plt\n",
    "from PIL import Image, ImageFilter\n",
    "\n",
    "# Path to the input image folder\n",
    "input_path = '/kaggle/input/faces-dataset/data'\n",
    "output_folder = '/kaggle/working/grained_blurred'\n",
    "\n",
    "# Create the output folder if it doesn't exist\n",
    "os.makedirs(output_folder, exist_ok=True)\n",
    "\n",
    "# List to store image file paths\n",
    "image_paths = []\n",
    "\n",
    "# Iterate over files in the directory and add image file paths to the list\n",
    "for root, dirs, files in os.walk(input_path):\n",
    "    for file in files:\n",
    "        if file.lower().endswith(('.jpg', '.jpeg', '.png', '.bmp', '.gif')):\n",
    "            image_paths.append(os.path.join(root, file))\n",
    "\n",
    "# Moderate quality reduction\n",
    "reduced_quality = 30  # Balanced compression level\n",
    "\n",
    "# Moderate blur effect\n",
    "blur_radius = 3  # Noticeable but not excessive blur\n",
    "\n",
    "# Function to add grain/noise to the image\n",
    "def add_grain(image, amount=0.1):\n",
    "    row, col, ch = image.shape\n",
    "    mean = 0\n",
    "    sigma = amount * 255\n",
    "    gauss = np.random.normal(mean, sigma, (row, col, ch))\n",
    "    noisy = np.clip(image + gauss, 0, 255)\n",
    "    return noisy.astype(np.uint8)\n",
    "\n",
    "# Process each image\n",
    "for image_path in image_paths:\n",
    "    try:\n",
    "        # Open the image and apply Gaussian Blur using PIL\n",
    "        with Image.open(image_path) as img:\n",
    "            blurred_img = img.filter(ImageFilter.GaussianBlur(blur_radius))\n",
    "            \n",
    "            # Save the blurred image with reduced quality using PIL\n",
    "            output_blurred_image_path = os.path.join(output_folder, os.path.basename(image_path))\n",
    "            blurred_img.save(output_blurred_image_path, quality=reduced_quality)\n",
    "            print(f\"Moderately blurred and reduced-quality image saved as: {output_blurred_image_path}\")\n",
    "        \n",
    "        # Now load the blurred image using OpenCV for noise addition\n",
    "        blurred_img_opencv = cv2.imread(output_blurred_image_path)  # Use the saved reduced-quality image\n",
    "        blurred_img_rgb = cv2.cvtColor(blurred_img_opencv, cv2.COLOR_BGR2RGB)  # Convert to RGB for displaying\n",
    "\n",
    "        # Add grain to the image using the previously defined function\n",
    "        image_with_grain = add_grain(blurred_img_rgb)\n",
    "\n",
    "        # Prepare the output file path for the image with grain\n",
    "        output_image_with_grain_path = os.path.join(output_folder, f\"grained_{os.path.basename(image_path)}\")\n",
    "        \n",
    "        # Save the image with grain\n",
    "        cv2.imwrite(output_image_with_grain_path, cv2.cvtColor(image_with_grain, cv2.COLOR_RGB2BGR))\n",
    "        print(f\"Processed and saved with grain: {output_image_with_grain_path}\")\n",
    "        \n",
    "        # Optional: Display the original, blurred, and grainy images\n",
    "        original_img = cv2.imread(image_path)\n",
    "        original_img_rgb = cv2.cvtColor(original_img, cv2.COLOR_BGR2RGB)\n",
    "\n",
    "\n",
    "    except Exception as e:\n",
    "        print(f\"Error processing the image {image_path}: {e}\")\n"
   ]
  },
  {
   "cell_type": "code",
   "execution_count": 50,
   "metadata": {
    "execution": {
     "iopub.execute_input": "2024-12-24T21:07:21.984939Z",
     "iopub.status.busy": "2024-12-24T21:07:21.984613Z",
     "iopub.status.idle": "2024-12-24T21:07:22.162796Z",
     "shell.execute_reply": "2024-12-24T21:07:22.161937Z",
     "shell.execute_reply.started": "2024-12-24T21:07:21.984915Z"
    },
    "trusted": true
   },
   "outputs": [
    {
     "name": "stdout",
     "output_type": "stream",
     "text": [
      "Folder zipped successfully.\n"
     ]
    }
   ],
   "source": [
    "import shutil\n",
    "\n",
    "# Path to the output folder\n",
    "output_folder = '/kaggle/working/grained_blurred'\n",
    "\n",
    "# Create a zip file of the output folder\n",
    "shutil.make_archive(output_folder, 'zip', output_folder)\n",
    "print(\"Folder zipped successfully.\")"
   ]
  },
  {
   "cell_type": "code",
   "execution_count": null,
   "metadata": {
    "trusted": true
   },
   "outputs": [],
   "source": []
  }
 ],
 "metadata": {
  "kaggle": {
   "accelerator": "gpu",
   "dataSources": [
    {
     "datasetId": 6304608,
     "sourceId": 10202157,
     "sourceType": "datasetVersion"
    },
    {
     "datasetId": 6368171,
     "sourceId": 10289799,
     "sourceType": "datasetVersion"
    },
    {
     "datasetId": 6368542,
     "sourceId": 10290316,
     "sourceType": "datasetVersion"
    },
    {
     "isSourceIdPinned": true,
     "modelId": 200574,
     "modelInstanceId": 178276,
     "sourceId": 209099,
     "sourceType": "modelInstanceVersion"
    }
   ],
   "dockerImageVersionId": 30822,
   "isGpuEnabled": true,
   "isInternetEnabled": true,
   "language": "python",
   "sourceType": "notebook"
  },
  "kernelspec": {
   "display_name": "Python 3",
   "language": "python",
   "name": "python3"
  },
  "language_info": {
   "codemirror_mode": {
    "name": "ipython",
    "version": 3
   },
   "file_extension": ".py",
   "mimetype": "text/x-python",
   "name": "python",
   "nbconvert_exporter": "python",
   "pygments_lexer": "ipython3",
   "version": "3.10.12"
  }
 },
 "nbformat": 4,
 "nbformat_minor": 4
}
